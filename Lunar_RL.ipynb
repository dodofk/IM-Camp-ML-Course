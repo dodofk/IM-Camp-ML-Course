{
  "nbformat": 4,
  "nbformat_minor": 0,
  "metadata": {
    "colab": {
      "name": "Lunar_RL",
      "provenance": [],
      "collapsed_sections": [],
      "toc_visible": true,
      "mount_file_id": "1Nm8u2i0pwx3KHp_vCaz_ghz3ygaiY3uQ",
      "authorship_tag": "ABX9TyP4mL16bzkblPFHCVK47GyX",
      "include_colab_link": true
    },
    "kernelspec": {
      "name": "python3",
      "display_name": "Python 3"
    },
    "language_info": {
      "name": "python"
    },
    "accelerator": "GPU",
    "widgets": {
      "application/vnd.jupyter.widget-state+json": {
        "769b7c7d2b2c4ea69c00a595e1e09041": {
          "model_module": "@jupyter-widgets/controls",
          "model_name": "HBoxModel",
          "model_module_version": "1.5.0",
          "state": {
            "_view_name": "HBoxView",
            "_dom_classes": [],
            "_model_name": "HBoxModel",
            "_view_module": "@jupyter-widgets/controls",
            "_model_module_version": "1.5.0",
            "_view_count": null,
            "_view_module_version": "1.5.0",
            "box_style": "",
            "layout": "IPY_MODEL_0be9c5aca6c7487c821c6f30ecee7f6c",
            "_model_module": "@jupyter-widgets/controls",
            "children": [
              "IPY_MODEL_aaf550ffeeed4fa9ad90b697183963c6",
              "IPY_MODEL_d559b046b00e4d5a8d8b39c4a2d5ae08",
              "IPY_MODEL_3e0d2df386e34f07aa5f03e747252dfc"
            ]
          }
        },
        "0be9c5aca6c7487c821c6f30ecee7f6c": {
          "model_module": "@jupyter-widgets/base",
          "model_name": "LayoutModel",
          "model_module_version": "1.2.0",
          "state": {
            "_view_name": "LayoutView",
            "grid_template_rows": null,
            "right": null,
            "justify_content": null,
            "_view_module": "@jupyter-widgets/base",
            "overflow": null,
            "_model_module_version": "1.2.0",
            "_view_count": null,
            "flex_flow": null,
            "width": null,
            "min_width": null,
            "border": null,
            "align_items": null,
            "bottom": null,
            "_model_module": "@jupyter-widgets/base",
            "top": null,
            "grid_column": null,
            "overflow_y": null,
            "overflow_x": null,
            "grid_auto_flow": null,
            "grid_area": null,
            "grid_template_columns": null,
            "flex": null,
            "_model_name": "LayoutModel",
            "justify_items": null,
            "grid_row": null,
            "max_height": null,
            "align_content": null,
            "visibility": null,
            "align_self": null,
            "height": null,
            "min_height": null,
            "padding": null,
            "grid_auto_rows": null,
            "grid_gap": null,
            "max_width": null,
            "order": null,
            "_view_module_version": "1.2.0",
            "grid_template_areas": null,
            "object_position": null,
            "object_fit": null,
            "grid_auto_columns": null,
            "margin": null,
            "display": null,
            "left": null
          }
        },
        "aaf550ffeeed4fa9ad90b697183963c6": {
          "model_module": "@jupyter-widgets/controls",
          "model_name": "HTMLModel",
          "model_module_version": "1.5.0",
          "state": {
            "_view_name": "HTMLView",
            "style": "IPY_MODEL_789ae57438a748d7962db89078964da3",
            "_dom_classes": [],
            "description": "",
            "_model_name": "HTMLModel",
            "placeholder": "​",
            "_view_module": "@jupyter-widgets/controls",
            "_model_module_version": "1.5.0",
            "value": "Total:  113.9, Final:  47.6: 100%",
            "_view_count": null,
            "_view_module_version": "1.5.0",
            "description_tooltip": null,
            "_model_module": "@jupyter-widgets/controls",
            "layout": "IPY_MODEL_407ca1214ae54f39a938c706879f30e6"
          }
        },
        "d559b046b00e4d5a8d8b39c4a2d5ae08": {
          "model_module": "@jupyter-widgets/controls",
          "model_name": "FloatProgressModel",
          "model_module_version": "1.5.0",
          "state": {
            "_view_name": "ProgressView",
            "style": "IPY_MODEL_65472518e44740738dbf1682594b47ce",
            "_dom_classes": [],
            "description": "",
            "_model_name": "FloatProgressModel",
            "bar_style": "success",
            "max": 6000,
            "_view_module": "@jupyter-widgets/controls",
            "_model_module_version": "1.5.0",
            "value": 6000,
            "_view_count": null,
            "_view_module_version": "1.5.0",
            "orientation": "horizontal",
            "min": 0,
            "description_tooltip": null,
            "_model_module": "@jupyter-widgets/controls",
            "layout": "IPY_MODEL_0e603699a84b470287745199c58484ec"
          }
        },
        "3e0d2df386e34f07aa5f03e747252dfc": {
          "model_module": "@jupyter-widgets/controls",
          "model_name": "HTMLModel",
          "model_module_version": "1.5.0",
          "state": {
            "_view_name": "HTMLView",
            "style": "IPY_MODEL_3e97101bc7094701a56d1510a0698847",
            "_dom_classes": [],
            "description": "",
            "_model_name": "HTMLModel",
            "placeholder": "​",
            "_view_module": "@jupyter-widgets/controls",
            "_model_module_version": "1.5.0",
            "value": " 6000/6000 [1:34:15&lt;00:00,  2.50it/s]",
            "_view_count": null,
            "_view_module_version": "1.5.0",
            "description_tooltip": null,
            "_model_module": "@jupyter-widgets/controls",
            "layout": "IPY_MODEL_4097a8cc839a49428ea71a92ab257561"
          }
        },
        "789ae57438a748d7962db89078964da3": {
          "model_module": "@jupyter-widgets/controls",
          "model_name": "DescriptionStyleModel",
          "model_module_version": "1.5.0",
          "state": {
            "_view_name": "StyleView",
            "_model_name": "DescriptionStyleModel",
            "description_width": "",
            "_view_module": "@jupyter-widgets/base",
            "_model_module_version": "1.5.0",
            "_view_count": null,
            "_view_module_version": "1.2.0",
            "_model_module": "@jupyter-widgets/controls"
          }
        },
        "407ca1214ae54f39a938c706879f30e6": {
          "model_module": "@jupyter-widgets/base",
          "model_name": "LayoutModel",
          "model_module_version": "1.2.0",
          "state": {
            "_view_name": "LayoutView",
            "grid_template_rows": null,
            "right": null,
            "justify_content": null,
            "_view_module": "@jupyter-widgets/base",
            "overflow": null,
            "_model_module_version": "1.2.0",
            "_view_count": null,
            "flex_flow": null,
            "width": null,
            "min_width": null,
            "border": null,
            "align_items": null,
            "bottom": null,
            "_model_module": "@jupyter-widgets/base",
            "top": null,
            "grid_column": null,
            "overflow_y": null,
            "overflow_x": null,
            "grid_auto_flow": null,
            "grid_area": null,
            "grid_template_columns": null,
            "flex": null,
            "_model_name": "LayoutModel",
            "justify_items": null,
            "grid_row": null,
            "max_height": null,
            "align_content": null,
            "visibility": null,
            "align_self": null,
            "height": null,
            "min_height": null,
            "padding": null,
            "grid_auto_rows": null,
            "grid_gap": null,
            "max_width": null,
            "order": null,
            "_view_module_version": "1.2.0",
            "grid_template_areas": null,
            "object_position": null,
            "object_fit": null,
            "grid_auto_columns": null,
            "margin": null,
            "display": null,
            "left": null
          }
        },
        "65472518e44740738dbf1682594b47ce": {
          "model_module": "@jupyter-widgets/controls",
          "model_name": "ProgressStyleModel",
          "model_module_version": "1.5.0",
          "state": {
            "_view_name": "StyleView",
            "_model_name": "ProgressStyleModel",
            "description_width": "",
            "_view_module": "@jupyter-widgets/base",
            "_model_module_version": "1.5.0",
            "_view_count": null,
            "_view_module_version": "1.2.0",
            "bar_color": null,
            "_model_module": "@jupyter-widgets/controls"
          }
        },
        "0e603699a84b470287745199c58484ec": {
          "model_module": "@jupyter-widgets/base",
          "model_name": "LayoutModel",
          "model_module_version": "1.2.0",
          "state": {
            "_view_name": "LayoutView",
            "grid_template_rows": null,
            "right": null,
            "justify_content": null,
            "_view_module": "@jupyter-widgets/base",
            "overflow": null,
            "_model_module_version": "1.2.0",
            "_view_count": null,
            "flex_flow": null,
            "width": null,
            "min_width": null,
            "border": null,
            "align_items": null,
            "bottom": null,
            "_model_module": "@jupyter-widgets/base",
            "top": null,
            "grid_column": null,
            "overflow_y": null,
            "overflow_x": null,
            "grid_auto_flow": null,
            "grid_area": null,
            "grid_template_columns": null,
            "flex": null,
            "_model_name": "LayoutModel",
            "justify_items": null,
            "grid_row": null,
            "max_height": null,
            "align_content": null,
            "visibility": null,
            "align_self": null,
            "height": null,
            "min_height": null,
            "padding": null,
            "grid_auto_rows": null,
            "grid_gap": null,
            "max_width": null,
            "order": null,
            "_view_module_version": "1.2.0",
            "grid_template_areas": null,
            "object_position": null,
            "object_fit": null,
            "grid_auto_columns": null,
            "margin": null,
            "display": null,
            "left": null
          }
        },
        "3e97101bc7094701a56d1510a0698847": {
          "model_module": "@jupyter-widgets/controls",
          "model_name": "DescriptionStyleModel",
          "model_module_version": "1.5.0",
          "state": {
            "_view_name": "StyleView",
            "_model_name": "DescriptionStyleModel",
            "description_width": "",
            "_view_module": "@jupyter-widgets/base",
            "_model_module_version": "1.5.0",
            "_view_count": null,
            "_view_module_version": "1.2.0",
            "_model_module": "@jupyter-widgets/controls"
          }
        },
        "4097a8cc839a49428ea71a92ab257561": {
          "model_module": "@jupyter-widgets/base",
          "model_name": "LayoutModel",
          "model_module_version": "1.2.0",
          "state": {
            "_view_name": "LayoutView",
            "grid_template_rows": null,
            "right": null,
            "justify_content": null,
            "_view_module": "@jupyter-widgets/base",
            "overflow": null,
            "_model_module_version": "1.2.0",
            "_view_count": null,
            "flex_flow": null,
            "width": null,
            "min_width": null,
            "border": null,
            "align_items": null,
            "bottom": null,
            "_model_module": "@jupyter-widgets/base",
            "top": null,
            "grid_column": null,
            "overflow_y": null,
            "overflow_x": null,
            "grid_auto_flow": null,
            "grid_area": null,
            "grid_template_columns": null,
            "flex": null,
            "_model_name": "LayoutModel",
            "justify_items": null,
            "grid_row": null,
            "max_height": null,
            "align_content": null,
            "visibility": null,
            "align_self": null,
            "height": null,
            "min_height": null,
            "padding": null,
            "grid_auto_rows": null,
            "grid_gap": null,
            "max_width": null,
            "order": null,
            "_view_module_version": "1.2.0",
            "grid_template_areas": null,
            "object_position": null,
            "object_fit": null,
            "grid_auto_columns": null,
            "margin": null,
            "display": null,
            "left": null
          }
        }
      }
    }
  },
  "cells": [
    {
      "cell_type": "markdown",
      "metadata": {
        "id": "view-in-github",
        "colab_type": "text"
      },
      "source": [
        "<a href=\"https://colab.research.google.com/github/dodofk/IM-Camp-ML-Course/blob/main/Lunar_RL.ipynb\" target=\"_parent\"><img src=\"https://colab.research.google.com/assets/colab-badge.svg\" alt=\"Open In Colab\"/></a>"
      ]
    },
    {
      "cell_type": "markdown",
      "source": [
        "# LunarLander-v2 DQN"
      ],
      "metadata": {
        "id": "1F6wM9ECfNHs"
      }
    },
    {
      "cell_type": "markdown",
      "source": [
        "## Install Packages"
      ],
      "metadata": {
        "id": "qR0Ea8VCgACb"
      }
    },
    {
      "cell_type": "code",
      "source": [
        "!nvidia-smi"
      ],
      "metadata": {
        "colab": {
          "base_uri": "https://localhost:8080/"
        },
        "id": "Gzkp-Nf_3NSC",
        "outputId": "1034d85c-16a9-4526-e3d4-d234fc092e02"
      },
      "execution_count": 1,
      "outputs": [
        {
          "output_type": "stream",
          "name": "stdout",
          "text": [
            "Thu Dec 16 16:24:38 2021       \n",
            "+-----------------------------------------------------------------------------+\n",
            "| NVIDIA-SMI 495.44       Driver Version: 460.32.03    CUDA Version: 11.2     |\n",
            "|-------------------------------+----------------------+----------------------+\n",
            "| GPU  Name        Persistence-M| Bus-Id        Disp.A | Volatile Uncorr. ECC |\n",
            "| Fan  Temp  Perf  Pwr:Usage/Cap|         Memory-Usage | GPU-Util  Compute M. |\n",
            "|                               |                      |               MIG M. |\n",
            "|===============================+======================+======================|\n",
            "|   0  Tesla P100-PCIE...  Off  | 00000000:00:04.0 Off |                    0 |\n",
            "| N/A   36C    P0    26W / 250W |      0MiB / 16280MiB |      0%      Default |\n",
            "|                               |                      |                  N/A |\n",
            "+-------------------------------+----------------------+----------------------+\n",
            "                                                                               \n",
            "+-----------------------------------------------------------------------------+\n",
            "| Processes:                                                                  |\n",
            "|  GPU   GI   CI        PID   Type   Process name                  GPU Memory |\n",
            "|        ID   ID                                                   Usage      |\n",
            "|=============================================================================|\n",
            "|  No running processes found                                                 |\n",
            "+-----------------------------------------------------------------------------+\n"
          ]
        }
      ]
    },
    {
      "cell_type": "code",
      "execution_count": 2,
      "metadata": {
        "colab": {
          "base_uri": "https://localhost:8080/"
        },
        "id": "CmUc6BjefJ1_",
        "outputId": "4f0d23c2-5038-41b3-f220-e844d65e05e9"
      },
      "outputs": [
        {
          "output_type": "stream",
          "name": "stdout",
          "text": [
            "\u001b[33m\r0% [Working]\u001b[0m\r            \rHit:1 https://cloud.r-project.org/bin/linux/ubuntu bionic-cran40/ InRelease\n",
            "Ign:2 https://developer.download.nvidia.com/compute/cuda/repos/ubuntu1804/x86_64  InRelease\n",
            "Get:3 http://security.ubuntu.com/ubuntu bionic-security InRelease [88.7 kB]\n",
            "Ign:4 https://developer.download.nvidia.com/compute/machine-learning/repos/ubuntu1804/x86_64  InRelease\n",
            "Hit:5 https://developer.download.nvidia.com/compute/cuda/repos/ubuntu1804/x86_64  Release\n",
            "Hit:6 https://developer.download.nvidia.com/compute/machine-learning/repos/ubuntu1804/x86_64  Release\n",
            "Hit:7 http://ppa.launchpad.net/c2d4u.team/c2d4u4.0+/ubuntu bionic InRelease\n",
            "Hit:8 http://archive.ubuntu.com/ubuntu bionic InRelease\n",
            "Get:9 http://archive.ubuntu.com/ubuntu bionic-updates InRelease [88.7 kB]\n",
            "Hit:10 http://ppa.launchpad.net/cran/libgit2/ubuntu bionic InRelease\n",
            "Hit:12 http://ppa.launchpad.net/deadsnakes/ppa/ubuntu bionic InRelease\n",
            "Get:13 http://archive.ubuntu.com/ubuntu bionic-backports InRelease [74.6 kB]\n",
            "Hit:14 http://ppa.launchpad.net/graphics-drivers/ppa/ubuntu bionic InRelease\n",
            "Fetched 252 kB in 4s (64.4 kB/s)\n",
            "Reading package lists... Done\n",
            "Building dependency tree       \n",
            "Reading state information... Done\n",
            "75 packages can be upgraded. Run 'apt list --upgradable' to see them.\n",
            "Reading package lists... Done\n",
            "Building dependency tree       \n",
            "Reading state information... Done\n",
            "python-opengl is already the newest version (3.1.0+dfsg-1).\n",
            "xvfb is already the newest version (2:1.19.6-1ubuntu4.10).\n",
            "0 upgraded, 0 newly installed, 0 to remove and 75 not upgraded.\n"
          ]
        }
      ],
      "source": [
        "!apt update \n",
        "!apt install python-opengl xvfb -y \n",
        "!pip install gym[box2d] pyvirtualdisplay tqdm wandb torch==1.10.0 --quiet"
      ]
    },
    {
      "cell_type": "code",
      "source": [
        "# !wandb login\n",
        "import wandb\n",
        "\n",
        "wandb.init(\"lunar\")"
      ],
      "metadata": {
        "colab": {
          "base_uri": "https://localhost:8080/",
          "height": 74
        },
        "id": "XxccDqCf0wMz",
        "outputId": "55a14027-0adc-4681-e850-c2820fba5e9b"
      },
      "execution_count": 3,
      "outputs": [
        {
          "output_type": "stream",
          "name": "stderr",
          "text": [
            "\u001b[34m\u001b[1mwandb\u001b[0m: Currently logged in as: \u001b[33mdodofk\u001b[0m (use `wandb login --relogin` to force relogin)\n"
          ]
        },
        {
          "output_type": "display_data",
          "data": {
            "text/html": [
              "\n",
              "                    Syncing run <strong><a href=\"https://wandb.ai/dodofk/uncategorized/runs/2aqrrunk\" target=\"_blank\">stellar-bird-21</a></strong> to <a href=\"https://wandb.ai/dodofk/uncategorized\" target=\"_blank\">Weights & Biases</a> (<a href=\"https://docs.wandb.com/integrations/jupyter.html\" target=\"_blank\">docs</a>).<br/>\n",
              "\n",
              "                "
            ],
            "text/plain": [
              "<IPython.core.display.HTML object>"
            ]
          },
          "metadata": {}
        },
        {
          "output_type": "execute_result",
          "data": {
            "text/plain": [
              "<wandb.sdk.wandb_run.Run at 0x7f3952696a10>"
            ],
            "text/html": [
              "<button onClick=\"this.nextSibling.style.display='block';this.style.display='none';\">Display W&B run</button><iframe src=\"https://wandb.ai/dodofk/uncategorized/runs/2aqrrunk?jupyter=true\" style=\"border:none;width:100%;height:420px;display:none;\"></iframe>"
            ]
          },
          "metadata": {},
          "execution_count": 3
        }
      ]
    },
    {
      "cell_type": "markdown",
      "source": [
        "## Import Package"
      ],
      "metadata": {
        "id": "aIvRfT9ugdgE"
      }
    },
    {
      "cell_type": "code",
      "source": [
        "%%capture\n",
        "from pyvirtualdisplay import Display\n",
        "virtual_display = Display(visible=0, size= (1400, 900))\n",
        "virtual_display.start()\n",
        "\n",
        "%matplotlib inline\n",
        "from matplotlib import pyplot as plt\n",
        "\n",
        "import numpy as np\n",
        "from IPython import display\n",
        "import torch \n",
        "import torch.nn as nn\n",
        "import torch.nn.functional as F\n",
        "from torch.distributions import Categorical\n",
        "from tqdm.autonotebook import tqdm\n",
        "\n",
        "from collections import OrderedDict, namedtuple, deque\n",
        "import random"
      ],
      "metadata": {
        "id": "fb1EP8fogO_N"
      },
      "execution_count": 4,
      "outputs": []
    },
    {
      "cell_type": "markdown",
      "source": [
        "### Setup Project Configuration\n",
        "\n"
      ],
      "metadata": {
        "id": "XGl_XH49q9hu"
      }
    },
    {
      "cell_type": "code",
      "source": [
        "class cfg:\n",
        "    device = \"cuda\" if torch.cuda.is_available() else \"cpu\"\n",
        "    batch_size = 64\n",
        "    GAMMA = 0.99\n",
        "    target_update = 6 \n",
        "    lr = 1e-4\n",
        "    weight_decay = 1e-4\n",
        "    capacity = 10000\n",
        "    tau = 1e-2\n",
        "    episodes = 6000\n",
        "    max_try = 2000\n",
        "\n",
        "    eps_start = 1.0\n",
        "    eps_end = 0.01\n",
        "    eps_decay = 0.995\n",
        "    \n",
        "    save_path = \"drive/MyDrive/MIULAB_DATASET/RL_Lunar/agent_new.pt\"\n",
        "    save_episode = 500\n",
        "\n",
        "    observation_size = 8\n",
        "    action_size = 4\n",
        "    hidden_size = 64"
      ],
      "metadata": {
        "id": "CtjS4iCUrATl"
      },
      "execution_count": 29,
      "outputs": []
    },
    {
      "cell_type": "markdown",
      "source": [
        "### Setup Lunar Lander Enviroment"
      ],
      "metadata": {
        "id": "eS7-UwDug9mO"
      }
    },
    {
      "cell_type": "code",
      "source": [
        "%%capture\n",
        "import gym\n",
        "\n",
        "\n",
        "env = gym.make('LunarLander-v2')"
      ],
      "metadata": {
        "id": "XH7arXarg3sE"
      },
      "execution_count": 6,
      "outputs": []
    },
    {
      "cell_type": "code",
      "source": [
        "torch.__version__"
      ],
      "metadata": {
        "colab": {
          "base_uri": "https://localhost:8080/",
          "height": 36
        },
        "id": "QLTVrgSPCRGQ",
        "outputId": "1cd8f2aa-32f9-4cc8-ea22-9a76b9b139b5"
      },
      "execution_count": 7,
      "outputs": [
        {
          "output_type": "execute_result",
          "data": {
            "application/vnd.google.colaboratory.intrinsic+json": {
              "type": "string"
            },
            "text/plain": [
              "'1.10.0+cu102'"
            ]
          },
          "metadata": {},
          "execution_count": 7
        }
      ]
    },
    {
      "cell_type": "code",
      "source": [
        "def fix():\n",
        "  torch.use_deterministic_algorithms(False)\n",
        "  torch.backends.cudnn.benchmark = False\n",
        "  torch.backends.cudnn.deterministic = True\n",
        "\n",
        "fix()"
      ],
      "metadata": {
        "id": "qAgButNrAxt9"
      },
      "execution_count": 8,
      "outputs": []
    },
    {
      "cell_type": "markdown",
      "source": [
        "## LunarLander-v2 介紹\n",
        "\n",
        "\"LunarLander-v2\" 是模擬登月小艇在著陸的過程，目的是讓登月小艇成功降落在兩個黃耆中間。\n",
        "\n",
        "![](https://gym.openai.com/videos/2019-10-21--mqt8Qj1mwo/LunarLander-v2/poster.jpg)\n",
        "\n",
        "\n",
        "\n",
        "\n"
      ],
      "metadata": {
        "id": "tkjVzV0ch9M9"
      }
    },
    {
      "cell_type": "markdown",
      "source": [
        "## 環境介紹\n",
        "\n",
        "\n",
        "![](https://gym.openai.com/assets/docs/aeloop-138c89d44114492fd02822303e6b4b07213010bb14ca5856d2d49d6b62d88e53.svg)\n"
      ],
      "metadata": {
        "id": "VUxrVLAdjZfz"
      }
    },
    {
      "cell_type": "code",
      "source": [
        "env.observation_space"
      ],
      "metadata": {
        "colab": {
          "base_uri": "https://localhost:8080/"
        },
        "id": "0-znkC8EhOoq",
        "outputId": "fec325b4-fac6-4c7e-b3a5-3cef1f145206"
      },
      "execution_count": 9,
      "outputs": [
        {
          "output_type": "execute_result",
          "data": {
            "text/plain": [
              "Box(-inf, inf, (8,), float32)"
            ]
          },
          "metadata": {},
          "execution_count": 9
        }
      ]
    },
    {
      "cell_type": "markdown",
      "source": [
        "說明其中有8維的向量是作為Agent判斷Action的observation"
      ],
      "metadata": {
        "id": "601IIQnRjju6"
      }
    },
    {
      "cell_type": "code",
      "source": [
        "env.action_space"
      ],
      "metadata": {
        "colab": {
          "base_uri": "https://localhost:8080/"
        },
        "id": "Bu2hwWexjfkM",
        "outputId": "9dedbc10-ff35-44d4-9451-239af19a33b4"
      },
      "execution_count": 10,
      "outputs": [
        {
          "output_type": "execute_result",
          "data": {
            "text/plain": [
              "Discrete(4)"
            ]
          },
          "metadata": {},
          "execution_count": 10
        }
      ]
    },
    {
      "cell_type": "markdown",
      "source": [
        "代表Agent每次可以選擇四種行動的其中一種\n",
        "\n",
        "0: 什麼事情都不做\n",
        "\n",
        "1: 點燃左側引擎\n",
        "\n",
        "2: 點燃主引擎\n",
        "\n",
        "3: 點燃右側引擎"
      ],
      "metadata": {
        "id": "FlzBfYc3jvlw"
      }
    },
    {
      "cell_type": "code",
      "source": [
        "initial_state = env.reset()\n",
        "# 初始化\n",
        "initial_state"
      ],
      "metadata": {
        "colab": {
          "base_uri": "https://localhost:8080/"
        },
        "id": "UrrZLpIejvNd",
        "outputId": "0f93182a-8a79-4e0e-aa65-ec779ec82ef1"
      },
      "execution_count": 11,
      "outputs": [
        {
          "output_type": "execute_result",
          "data": {
            "text/plain": [
              "array([ 9.34886921e-04,  1.41328394e+00,  9.46668833e-02,  1.05056696e-01,\n",
              "       -1.07639120e-03, -2.14434583e-02,  0.00000000e+00,  0.00000000e+00],\n",
              "      dtype=float32)"
            ]
          },
          "metadata": {},
          "execution_count": 11
        }
      ]
    },
    {
      "cell_type": "code",
      "source": [
        "random_action = env.action_space.sample()\n",
        "# 隨機產生的action\n",
        "random_action"
      ],
      "metadata": {
        "colab": {
          "base_uri": "https://localhost:8080/"
        },
        "id": "5iGEtHkjjtyl",
        "outputId": "ee37f002-9566-4491-b082-2bd5bcddc368"
      },
      "execution_count": 12,
      "outputs": [
        {
          "output_type": "execute_result",
          "data": {
            "text/plain": [
              "0"
            ]
          },
          "metadata": {},
          "execution_count": 12
        }
      ]
    },
    {
      "cell_type": "code",
      "source": [
        "# 根據提供的Action(此處為Random Action)，來產生做完這個Action的環境狀態，獎賞，是否完成此任務，和其餘資訊等\n",
        "observation, reward, done, info = env.step(random_action)\n",
        "\n",
        "observation, reward, done, info"
      ],
      "metadata": {
        "colab": {
          "base_uri": "https://localhost:8080/"
        },
        "id": "HdrAr68akw52",
        "outputId": "eabc7913-059f-4280-e3eb-c5514fad12bb"
      },
      "execution_count": 13,
      "outputs": [
        {
          "output_type": "execute_result",
          "data": {
            "text/plain": [
              "(array([ 0.00186949,  1.4150698 ,  0.09453909,  0.07937353, -0.00213599,\n",
              "        -0.02119314,  0.        ,  0.        ], dtype=float32),\n",
              " 1.5129009251826346,\n",
              " False,\n",
              " {})"
            ]
          },
          "metadata": {},
          "execution_count": 13
        }
      ]
    },
    {
      "cell_type": "markdown",
      "source": [
        "\n",
        "Reward：\n",
        "\n",
        "\n",
        "\n",
        "*   小艇墜地: -100\n",
        "*   小艇一隻腳成功著陸: +10\n",
        "*   點燃主引擎：-0.3\n",
        "*   小艇最終完全靜止：+100\n",
        "*   成功著陸：+100~140\n",
        "---\n",
        "\n",
        "原文：\n",
        "\n",
        "> Episode finishes if the lander crashes or comes to rest, receiving additional -100 or +100 points. Each leg ground contact is +10. Firing main engine is -0.3 points each frame.\n",
        "\n",
        "\n",
        "\n",
        "\n",
        "\n"
      ],
      "metadata": {
        "id": "k6QDyW_1lg4K"
      }
    },
    {
      "cell_type": "markdown",
      "source": [
        "## 隨機運作"
      ],
      "metadata": {
        "id": "UYNn8iDQmnmX"
      }
    },
    {
      "cell_type": "code",
      "source": [
        "env.reset()\n",
        "\n",
        "img = plt.imshow(env.render(mode='rgb_array'))\n",
        "\n",
        "done = False\n",
        "\n",
        "while not done:\n",
        "    action = env.action_space.sample()\n",
        "    _, _, done, _ = env.step(action)\n",
        "\n",
        "    img.set_data(env.render(mode=\"rgb_array\"))\n",
        "    display.display(plt.gcf())\n",
        "    display.clear_output(wait=True)"
      ],
      "metadata": {
        "colab": {
          "base_uri": "https://localhost:8080/",
          "height": 268
        },
        "id": "0n4mm2xvml5l",
        "outputId": "dd947bf3-2765-40a1-ac47-f8d05548f8da"
      },
      "execution_count": 14,
      "outputs": [
        {
          "output_type": "display_data",
          "data": {
            "image/png": "[encoded data removed]",
            "text/plain": [
              "<Figure size 432x288 with 1 Axes>"
            ]
          },
          "metadata": {
            "needs_background": "light"
          }
        }
      ]
    },
    {
      "cell_type": "markdown",
      "source": [
        "## Model and Agent"
      ],
      "metadata": {
        "id": "9HBTCd_WnKkz"
      }
    },
    {
      "cell_type": "code",
      "source": [
        "class ReplayMemory(object):\n",
        "    def __init__(self, capacity):\n",
        "        self.memory = deque(maxlen=capacity)\n",
        "        self.experience = namedtuple('Experience', field_names=['state', 'action', 'reward', 'next_state', 'done'])\n",
        "\n",
        "    def add(self, state, action ,reward, next_state, done):\n",
        "        exp = self.experience(state, action, reward, next_state, done)\n",
        "        self.memory.append(exp)\n",
        "\n",
        "    def sample(self):\n",
        "        experiences = random.sample(self.memory, k=cfg.batch_size)\n",
        "\n",
        "        states = torch.from_numpy(np.vstack([e.state for e in experiences if e is not None])).float().to(cfg.device)\n",
        "        actions = torch.from_numpy(np.vstack([e.action for e in experiences if e is not None])).long().to(cfg.device)\n",
        "        rewards = torch.from_numpy(np.vstack([e.reward for e in experiences if e is not None])).float().to(cfg.device)\n",
        "        next_states = torch.from_numpy(np.vstack([e.next_state for e in experiences if e is not None])).float().to(cfg.device)\n",
        "        dones = torch.from_numpy(np.vstack([e.done for e in experiences if e is not None])).float().to(cfg.device)\n",
        "\n",
        "        return (states, actions, rewards, next_states, dones)\n",
        "\n",
        "    def __len__(self):\n",
        "        return len(self.memory)"
      ],
      "metadata": {
        "id": "NSHGXoo6ro5V"
      },
      "execution_count": 15,
      "outputs": []
    },
    {
      "cell_type": "code",
      "source": [
        "class Q_Network(nn.Module):\n",
        "    def __init__(self):\n",
        "        super().__init__()\n",
        "        self.fc1 = nn.Linear(cfg.observation_size, cfg.hidden_size)\n",
        "        self.fc2 = nn.Linear(cfg.hidden_size, cfg.hidden_size)\n",
        "        self.fc3 = nn.Linear(cfg.hidden_size, cfg.hidden_size)\n",
        "        self.fc4 = nn.Linear(cfg.hidden_size, cfg.action_size)\n",
        "\n",
        "    def forward(self, state):\n",
        "        hid = F.relu(self.fc1(state))\n",
        "        hid = F.relu(self.fc2(hid))\n",
        "        hid = F.relu(self.fc3(hid))\n",
        "        return self.fc4(hid)"
      ],
      "metadata": {
        "id": "sS7fxYajnIV5"
      },
      "execution_count": 16,
      "outputs": []
    },
    {
      "cell_type": "markdown",
      "source": [
        "## Deep Q-Network\n",
        "\n",
        "[Original Paper Link](https://arxiv.org/abs/1509.06461)\n",
        "\n",
        "[Reinforcement Learning 強化學習(DQN原理)](https://medium.com/%E9%9B%9E%E9%9B%9E%E8%88%87%E5%85%94%E5%85%94%E7%9A%84%E5%B7%A5%E7%A8%8B%E4%B8%96%E7%95%8C/%E6%A9%9F%E5%99%A8%E5%AD%B8%E7%BF%92-ml-note-reinforcement-learning-%E5%BC%B7%E5%8C%96%E5%AD%B8%E7%BF%92-dqn-%E5%AF%A6%E4%BD%9Catari-game-7f9185f833b0)"
      ],
      "metadata": {
        "id": "3kN09SFKUkv8"
      }
    },
    {
      "cell_type": "code",
      "source": [
        "class DQNAgent():\n",
        "    def __init__(self):\n",
        "        self.policy_net = Q_Network().to(cfg.device)\n",
        "        self.target_net = Q_Network().to(cfg.device)\n",
        "        self.optimizer = torch.optim.Adam(self.policy_net.parameters(), lr=cfg.lr)\n",
        "        self.memory = ReplayMemory(cfg.capacity)\n",
        "        self.steps = 0\n",
        "        \n",
        "    def step(self, state, action, reward, next_state, done):\n",
        "        self.memory.add(state, action, reward, next_state, done)\n",
        "        self.steps = (self.steps + 1) % cfg.target_update\n",
        "        if self.steps == 0:\n",
        "            if len(self.memory) > cfg.batch_size:\n",
        "                experiences = self.memory.sample()\n",
        "                self.learn(experiences, cfg.GAMMA)\n",
        "\n",
        "    def act(self, state, eps):\n",
        "        state = torch.from_numpy(state).float().unsqueeze(0).to(cfg.device)\n",
        "        self.policy_net.eval()\n",
        "        with torch.no_grad():\n",
        "            action_values = self.policy_net(state)\n",
        "\n",
        "        self.policy_net.train()\n",
        "\n",
        "        if random.random() > eps:\n",
        "            return np.argmax(action_values.cpu().data.numpy())\n",
        "        else: \n",
        "            return random.choice(np.arange(4))\n",
        "\n",
        "    def learn(self, experiences, gamma):\n",
        "        states, actions, rewards, next_states, dones = experiences\n",
        "\n",
        "        Q_targets_next = self.target_net(next_states).detach().max(1)[0].unsqueeze(1)\n",
        "        Q_targets = rewards + (gamma * Q_targets_next * (1 - dones))\n",
        "\n",
        "        Q_expected = self.policy_net(states).gather(1, actions)\n",
        "\n",
        "        loss = F.mse_loss(Q_expected, Q_targets)\n",
        "\n",
        "        self.optimizer.zero_grad()\n",
        "        loss.backward()\n",
        "        self.optimizer.step()\n",
        "\n",
        "        self.soft_update(self.policy_net, self.target_net)\n",
        "\n",
        "    def soft_update(self, local_model, target_model):\n",
        "        for target_param, local_param in zip(target_model.parameters(), local_model.parameters()):\n",
        "            target_param.data.copy_(cfg.tau * local_param.data + (1.0 - cfg.tau) * target_param.data)\n",
        "\n",
        "    def save(self, path):\n",
        "        Agent_Dict = {\n",
        "            \"network_policy\": self.policy_net.state_dict(),\n",
        "            \"network_target\": self.target_net.state_dict(),\n",
        "            \"optimizer\": self.optimizer.state_dict(),\n",
        "        }\n",
        "        torch.save(Agent_Dict, path)\n"
      ],
      "metadata": {
        "id": "eUQrtmhZk77n"
      },
      "execution_count": 17,
      "outputs": []
    },
    {
      "cell_type": "markdown",
      "source": [
        "## Train"
      ],
      "metadata": {
        "id": "StM1ct6UxSOl"
      }
    },
    {
      "cell_type": "code",
      "source": [
        "my_agent = DQNAgent()"
      ],
      "metadata": {
        "id": "WLTfnWEtxTgU"
      },
      "execution_count": 18,
      "outputs": []
    },
    {
      "cell_type": "code",
      "source": [
        "total_rewards, final_rewards = [], []\n",
        "avg_total_rewards, avg_final_rewards = [], []\n",
        "\n",
        "prg_bar = tqdm(range(cfg.episodes))\n",
        "\n",
        "eps = cfg.eps_start\n",
        "for index, episode in enumerate(prg_bar):\n",
        "    state = env.reset()\n",
        "    score = 0\n",
        "\n",
        "    final_reward = 0\n",
        "    for i in range(cfg.max_try):\n",
        "        action = my_agent.act(state, eps)\n",
        "        next_state, reward, done, _ = env.step(action)\n",
        "        my_agent.step(state, action, reward, next_state, done)\n",
        "        state = next_state\n",
        "        score += reward\n",
        "        \n",
        "        if done or (i==cfg.max_try-1):\n",
        "            final_reward = reward\n",
        "            break;\n",
        "\n",
        "\n",
        "    total_rewards.append(score)\n",
        "    final_rewards.append(final_reward)\n",
        "    eps = max(cfg.eps_end, eps * cfg.eps_decay)\n",
        "\n",
        "    avg_total_reward = sum(total_rewards) / (len(total_rewards))\n",
        "    avg_final_reward = sum(final_rewards) / (len(final_rewards))\n",
        "    avg_total_rewards.append(avg_total_reward)\n",
        "    avg_final_rewards.append(avg_final_reward)\n",
        "    prg_bar.set_description(f\"Total: {avg_total_reward: 4.1f}, Final: {avg_final_reward: 4.1f}\")\n",
        "\n",
        "\n",
        "    wandb.log({\"avg_final_reward\": avg_final_reward, \"total_reward\": avg_total_reward})\n"
      ],
      "metadata": {
        "colab": {
          "base_uri": "https://localhost:8080/",
          "height": 48,
          "referenced_widgets": [
            "769b7c7d2b2c4ea69c00a595e1e09041",
            "0be9c5aca6c7487c821c6f30ecee7f6c",
            "aaf550ffeeed4fa9ad90b697183963c6",
            "d559b046b00e4d5a8d8b39c4a2d5ae08",
            "3e0d2df386e34f07aa5f03e747252dfc",
            "789ae57438a748d7962db89078964da3",
            "407ca1214ae54f39a938c706879f30e6",
            "65472518e44740738dbf1682594b47ce",
            "0e603699a84b470287745199c58484ec",
            "3e97101bc7094701a56d1510a0698847",
            "4097a8cc839a49428ea71a92ab257561"
          ]
        },
        "id": "F0lJUyGwvNcQ",
        "outputId": "551603ef-5e45-4235-bf7d-de2f089a71a7"
      },
      "execution_count": 19,
      "outputs": [
        {
          "output_type": "display_data",
          "data": {
            "application/vnd.jupyter.widget-view+json": {
              "model_id": "769b7c7d2b2c4ea69c00a595e1e09041",
              "version_minor": 0,
              "version_major": 2
            },
            "text/plain": [
              "  0%|          | 0/6000 [00:00<?, ?it/s]"
            ]
          },
          "metadata": {}
        }
      ]
    },
    {
      "cell_type": "code",
      "source": [
        "torch.save(my_agent.policy_net.state_dict(), cfg.save_path)"
      ],
      "metadata": {
        "id": "FE8xWrVXawJc"
      },
      "execution_count": 30,
      "outputs": []
    },
    {
      "cell_type": "markdown",
      "source": [
        "## 訓練過程 \n",
        "\n",
        "https://wandb.ai/dodofk/uncategorized/runs/2aqrrunk?workspace=user-dodofk"
      ],
      "metadata": {
        "id": "eo6FzYKzYR77"
      }
    },
    {
      "cell_type": "markdown",
      "source": [
        "# Testing"
      ],
      "metadata": {
        "id": "uaT26M9CZhVU"
      }
    },
    {
      "cell_type": "code",
      "source": [
        "NUM_OF_TEST = 1 # Do not revise this !!!\n",
        "test_agent = DQNAgent()\n",
        "check_point = torch.load(cfg.save_path)\n",
        "test_agent.policy_net.load_state_dict(check_point['network_policy'])\n",
        "test_agent.policy_net.eval()\n",
        "\n",
        "test_total_reward = []\n",
        "action_list = []\n",
        "for i in range(NUM_OF_TEST):\n",
        "  actions = []\n",
        "  state = env.reset()\n",
        "\n",
        "  img = plt.imshow(env.render(mode='rgb_array'))\n",
        "\n",
        "  total_reward = 0\n",
        "\n",
        "  done = False\n",
        "  while not done:\n",
        "      action = test_agent.act(state,0)\n",
        "      actions.append(action)\n",
        "      state, reward, done, _ = env.step(action)\n",
        "\n",
        "      total_reward += reward\n",
        "\n",
        "      img.set_data(env.render(mode='rgb_array'))\n",
        "      display.display(plt.gcf())\n",
        "      display.clear_output(wait=True)\n",
        "      \n",
        "  print(total_reward)\n",
        "  test_total_reward.append(total_reward)\n",
        "\n",
        "  action_list.append(actions) # save the result of testing \n"
      ],
      "metadata": {
        "colab": {
          "base_uri": "https://localhost:8080/",
          "height": 287
        },
        "id": "HDWFsu5bZjSa",
        "outputId": "e3ee4032-1f01-4bdc-9d25-233d7102147d"
      },
      "execution_count": 31,
      "outputs": [
        {
          "output_type": "stream",
          "name": "stdout",
          "text": [
            "240.87608901700318\n"
          ]
        },
        {
          "output_type": "display_data",
          "data": {
            "image/png": "[encoded data removed]",
            "text/plain": [
              "<Figure size 432x288 with 1 Axes>"
            ]
          },
          "metadata": {
            "needs_background": "light"
          }
        }
      ]
    },
    {
      "cell_type": "markdown",
      "source": [
        "## 參考資料\n",
        "\n",
        "https://github.com/sourcecode369/deep-reinforcement-learning\n",
        "\n",
        "有興趣又有能力的可以聽以下課程：\n",
        "\n",
        "https://www.youtube.com/watch?v=FgzM3zpZ55o&list=PLoROMvodv4rOSOPzutgyCTapiGlY2Nd8u"
      ],
      "metadata": {
        "id": "JjOmR_SoWUOt"
      }
    },
    {
      "cell_type": "code",
      "source": [
        ""
      ],
      "metadata": {
        "id": "ovRnOwtQXa-9"
      },
      "execution_count": null,
      "outputs": []
    }
  ]
}